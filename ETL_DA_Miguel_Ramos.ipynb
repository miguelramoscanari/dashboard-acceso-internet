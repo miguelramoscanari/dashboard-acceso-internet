{
 "cells": [
  {
   "cell_type": "code",
   "execution_count": 25,
   "metadata": {},
   "outputs": [],
   "source": [
    "import pandas as pd\n",
    "import numpy as np\n",
    "import ast\n",
    "import warnings\n",
    "import csv\n",
    "\n",
    "pd.set_option(\"display.max_columns\", None) # MUESTRA TODAS LAS COLUNAS DE UN PANDAS DATAFRAME\n",
    "warnings.filterwarnings('ignore')\n",
    "\n",
    "API_KEY = 'GAN1vC5xqu0S0lE04dNYZtbBEFtqWTayl0ulFadV'\n",
    "URL_API = 'http://api.datosabiertos.enacom.gob.ar/api/v2/datastreams/'"
   ]
  },
  {
   "cell_type": "code",
   "execution_count": 18,
   "metadata": {},
   "outputs": [],
   "source": [
    "# Acceso a Internet Fijo por rangos de velocidad de bajada y provincia\n",
    "GUI = 'ACCES-A-INTER-FIJO-23248'\n",
    "url = URL_API + GUI + '/data.csv/?auth_key=' + API_KEY\n",
    "file = 'Datasets/Acceso_Internet_Fijo_por_rangos_velocidad_bajada_y_provincia.csv'\n",
    "try:\n",
    "    df_velocidad = pd.read_csv(url, sep=\",\", encoding='utf_8', thousands='.', decimal=',')\n",
    "except:\n",
    "    df_velocidad = pd.read_csv(file, sep=\",\", encoding='utf_8', thousands='.', decimal=',')\n",
    "\n",
    "# Penetración del Internet fijo por provincia (accesos por cada 100 habitantes)\n",
    "GUI = 'PENET-DEL-INTER-FIJO-POR'\n",
    "url = URL_API + GUI + '/data.csv/?auth_key=' + API_KEY\n",
    "file = 'Datasets/Penetración_por_hogares_nacional_Internet fijo.csv'\n",
    "try:\n",
    "    df_acceso_habitante = pd.read_csv(url, sep=\",\", encoding='utf_8', thousands='.', decimal=',')\n",
    "except:\n",
    "    df_acceso_habitante = pd.read_csv(file, sep=\",\", encoding='utf_8', thousands='.', decimal=',')\n",
    "\n",
    "# Penetración del Internet fijo por provincia (accesos por cada 100 hogares)\n",
    "GUI = 'PENET-DEL-INTER-FIJO-51614'\n",
    "url = URL_API + GUI + '/data.csv/?auth_key=' + API_KEY\n",
    "file = 'Datasets/Penetración_de _Internet fijo _(accesos _cada_100 hogares).csv'\n",
    "try:\n",
    "    df_acceso_hogar = pd.read_csv(url, sep=\",\", encoding='utf_8', thousands='.', decimal=',')\n",
    "except:\n",
    "    df_acceso_hogar = pd.read_csv(file, sep=\",\", encoding='utf_8', thousands='.', decimal=',')\n",
    "\n",
    "# Accesos a Internet fijo por velocidad bajada y provincia\n",
    "GUI = 'ACCES-A-INTER-FIJO-97624'\n",
    "url = URL_API + GUI + '/data.csv/?auth_key=' + API_KEY\n",
    "file = 'Datasets/Velocidad_media_bajada_Internet_fijo_por_provincia.csv'\n",
    "try:\n",
    "    df_velocidad_media = pd.read_csv(url, sep=\",\", encoding='utf_8', thousands='.', decimal=',')\n",
    "except:\n",
    "    df_velocidad_media = pd.read_csv(file, sep=\",\", encoding='utf_8', thousands='.', decimal=',')"
   ]
  },
  {
   "cell_type": "code",
   "execution_count": 17,
   "metadata": {},
   "outputs": [
    {
     "data": {
      "text/plain": [
       "6"
      ]
     },
     "execution_count": 17,
     "metadata": {},
     "output_type": "execute_result"
    }
   ],
   "source": [
    "df_velocidad['OTROS'].isnull().sum()"
   ]
  },
  {
   "cell_type": "code",
   "execution_count": 19,
   "metadata": {},
   "outputs": [],
   "source": [
    "# ETL en dataframe df_velocidad\n",
    "df_velocidad['OTROS'].fillna(0, inplace=True)\n",
    "velocidad = df_velocidad['HASTA 512 kbps'] + df_velocidad['+ 512 Kbps - 1 Mbps'] + df_velocidad['+ 1 Mbps - 6 Mbps'] + df_velocidad['+ 6 Mbps - 10 Mbps']\n",
    "df_velocidad.insert(loc=3, column='+ 0 Mbps - 10 Mbps', value=velocidad)\n",
    "df_velocidad.drop(['HASTA 512 kbps', '+ 512 Kbps - 1 Mbps', '+ 1 Mbps - 6 Mbps', '+ 6 Mbps - 10 Mbps'], axis=1, inplace=True)\n",
    "\n",
    "# Eliminando filas que no existen en algunos dataframes\n",
    "df_velocidad.drop(df_velocidad[df_velocidad['Año'] >= 2022].index, inplace=True)\n",
    "df_acceso_habitante.drop(df_acceso_habitante[df_acceso_habitante['Año'] >= 2022].index, inplace=True)\n",
    "df_acceso_hogar.drop(df_acceso_hogar[df_acceso_hogar['Año'] >= 2022].index, inplace=True)\n",
    "df_velocidad_media.drop(df_velocidad_media[df_velocidad_media['Año'] >= 2022].index, inplace=True)"
   ]
  },
  {
   "cell_type": "code",
   "execution_count": 24,
   "metadata": {},
   "outputs": [],
   "source": [
    "# Creando tabla hechos, join de los dataframes\n",
    "df_internet = df_velocidad.merge(df_acceso_habitante,on=['Año', 'Trimestre', 'Provincia']).merge(df_acceso_hogar,on=['Año', 'Trimestre', 'Provincia']).merge(df_velocidad_media,on=['Año', 'Trimestre', 'Provincia'])\n",
    "\n",
    "# Creando dimension Provincia\n",
    "df_provincia = df_velocidad.groupby(['Provincia'])['Total'].count().reset_index()\n",
    "df_provincia = df_provincia[['Provincia']]\n",
    "df_provincia['ProvinciaPais'] = 'Province ' + df_provincia['Provincia'] + ', Argentina'\n",
    "\n",
    "# Creando dimension Calendario\n",
    "df_calendario = df_velocidad.groupby(['Año', 'Trimestre'])['Total'].count().reset_index()\n",
    "df_calendario = df_calendario[['Año', 'Trimestre']].sort_values(by='Año', ascending=False)"
   ]
  },
  {
   "cell_type": "code",
   "execution_count": 32,
   "metadata": {},
   "outputs": [],
   "source": [
    "df_internet.to_csv('Datasets/internet.csv', index=False, sep=';')\n",
    "df_provincia.to_csv('Datasets/dim_provincia.csv', index=False, sep=';')\n",
    "df_calendario.to_csv('Datasets/dim_calendario.csv', index=False, sep=';')"
   ]
  },
  {
   "cell_type": "markdown",
   "metadata": {},
   "source": [
    "# SQL Creacion de tablas en MySql y load de data"
   ]
  },
  {
   "cell_type": "markdown",
   "metadata": {},
   "source": [
    "```\n",
    "-- ---------------------------------------\n",
    "-- CREANDO TABLAS\n",
    "-- ---------------------------------------\n",
    "DROP TABLE IF EXISTS `dim_calendario`;\n",
    "CREATE TABLE IF NOT EXISTS `dim_calendario` (\n",
    "  \t`Año` \t\t\tINTEGER,\n",
    "  \t`Trimestre` \tINTEGER\n",
    ") ENGINE=InnoDB DEFAULT CHARSET=utf8mb4 COLLATE=utf8mb4_spanish_ci;\t\n",
    "\n",
    "DROP TABLE IF EXISTS `dim_provincia`;\n",
    "CREATE TABLE IF NOT EXISTS `dim_provincia` (\n",
    "  `Provincia`\t\t\tVARCHAR(50),\n",
    "  `ProvinciaPais`\t\tVARCHAR(100)\n",
    ") ENGINE=InnoDB DEFAULT CHARSET=utf8mb4 COLLATE=utf8mb4_spanish_ci;\n",
    "\n",
    "DROP TABLE IF EXISTS `internet`;\n",
    "CREATE TABLE IF NOT EXISTS `internet` (\n",
    "  \t`Año` \t\t\t\t\t\tINTEGER,\n",
    "  \t`Trimestre` \t\t\t\tINTEGER,\n",
    "  \t`Provincia`\t\t\t\t\tVARCHAR(100),\n",
    "\t`+ 0 Mbps - 10 Mbps`\t\tINTEGER,\n",
    "\t`+ 10 Mbps - 20 Mbps`\t\tINTEGER,\n",
    "\t`+ 20 Mbps - 30 Mbps`\t\tINTEGER,\n",
    "\t`+ 30 Mbps`\t\t\t\t\tINTEGER,\n",
    "\t`Otros`\t\t\t\t\t\tDECIMAL(10,2),\n",
    "\t`Total`\t\t\t\t\t\tINTEGER,\n",
    "\t`Accesos por cada 100 hab`\t\tINTEGER,\n",
    "\t`Accesos por cada 100 hogares`\tDECIMAL(10,2),\n",
    "\t`Mbps (Media de bajada)`\t\tINTEGER\n",
    ") ENGINE=InnoDB DEFAULT CHARSET=utf8mb4 COLLATE=utf8mb4_spanish_ci;\n",
    "\n",
    "ALTER TABLE dim_calendario ADD PRIMARY KEY (`Año`, `Trimestre`);\n",
    "ALTER TABLE dim_provincia ADD PRIMARY KEY (`Provincia`);\n",
    "ALTER TABLE internet ADD PRIMARY KEY (`Año`, `Trimestre`, `Provincia`);\n",
    "\n",
    "\n",
    "\n",
    "-- ---------------------------------------\n",
    "-- LOAD CSV A TABLAS\n",
    "-- ---------------------------------------\n",
    "\n",
    "SELECT @@global.secure_file_priv; -- Para ver la ruta de origen donde poner los csv.\n",
    "\n",
    "LOAD DATA INFILE 'csv\\\\da_internet\\\\dim_calendario.csv'\n",
    "INTO TABLE dim_calendario  \n",
    "CHARACTER SET utf8mb4 -- Si no colocamos esta línea, no reconoce la codificación adecuada ANSI\n",
    "FIELDS TERMINATED BY ';' ENCLOSED BY '' ESCAPED BY '' \n",
    "LINES TERMINATED BY '\\n' IGNORE 1 LINES;\n",
    "\n",
    "SELECT * FROM dim_calendario;\n",
    "\n",
    "LOAD DATA INFILE 'csv\\\\da_internet\\\\dim_provincia.csv'\n",
    "INTO TABLE dim_provincia  \n",
    "CHARACTER SET utf8mb4 -- Si no colocamos esta línea, no reconoce la codificación adecuada ANSI\n",
    "FIELDS TERMINATED BY ';' ENCLOSED BY '' ESCAPED BY '' \n",
    "LINES TERMINATED BY '\\n' IGNORE 1 LINES;\n",
    "\n",
    "SELECT * FROM dim_provincia;\n",
    "\n",
    "LOAD DATA INFILE 'csv\\\\da_internet\\\\internet.csv'\n",
    "INTO TABLE internet  \n",
    "CHARACTER SET utf8mb4 -- Si no colocamos esta línea, no reconoce la codificación adecuada ANSI\n",
    "FIELDS TERMINATED BY ';' ENCLOSED BY '\"' ESCAPED BY '' \n",
    "LINES TERMINATED BY '\\n' IGNORE 1 LINES;\n",
    "\n",
    "SELECT * FROM internet;\n",
    "\n",
    "```"
   ]
  }
 ],
 "metadata": {
  "kernelspec": {
   "display_name": "Python 3.8.0 64-bit",
   "language": "python",
   "name": "python3"
  },
  "language_info": {
   "codemirror_mode": {
    "name": "ipython",
    "version": 3
   },
   "file_extension": ".py",
   "mimetype": "text/x-python",
   "name": "python",
   "nbconvert_exporter": "python",
   "pygments_lexer": "ipython3",
   "version": "3.11.4"
  },
  "orig_nbformat": 4,
  "vscode": {
   "interpreter": {
    "hash": "f8561e7899c0c7cebec5db5ecaa7c104a0756304427e1407ba0a841c626a3403"
   }
  }
 },
 "nbformat": 4,
 "nbformat_minor": 2
}
